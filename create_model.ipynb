{
 "cells": [
  {
   "cell_type": "code",
   "execution_count": 1,
   "metadata": {},
   "outputs": [
    {
     "name": "stdout",
     "output_type": "stream",
     "text": [
      "Requirement already satisfied: ebonite in /Users/mike0sv/miniconda3/envs/py36/lib/python3.6/site-packages (0.3.5)\n",
      "Requirement already satisfied: boto3 in /Users/mike0sv/miniconda3/envs/py36/lib/python3.6/site-packages (1.9.14)\n",
      "Collecting psycopg2-binary\n",
      "\u001b[?25l  Downloading https://files.pythonhosted.org/packages/14/a8/ea96dfbf99ad3d364dc6dcb67b1f807efb7bbe976980bb21277d24061320/psycopg2_binary-2.8.4-cp36-cp36m-macosx_10_6_intel.macosx_10_9_intel.macosx_10_9_x86_64.macosx_10_10_intel.macosx_10_10_x86_64.whl (1.5MB)\n",
      "\u001b[K    100% |████████████████████████████████| 1.6MB 7.5MB/s eta 0:00:01\n",
      "\u001b[?25hRequirement already satisfied: numpy in /Users/mike0sv/miniconda3/envs/py36/lib/python3.6/site-packages (1.15.1)\n",
      "Requirement already satisfied: pandas in /Users/mike0sv/miniconda3/envs/py36/lib/python3.6/site-packages (0.23.4)\n",
      "Requirement already satisfied: scikit-learn in /Users/mike0sv/miniconda3/envs/py36/lib/python3.6/site-packages (0.20.0)\n",
      "Requirement already satisfied: dill==0.3.1.1 in /Users/mike0sv/miniconda3/envs/py36/lib/python3.6/site-packages (from ebonite) (0.3.1.1)\n",
      "Requirement already satisfied: docker==4.1.0 in /Users/mike0sv/miniconda3/envs/py36/lib/python3.6/site-packages (from ebonite) (4.1.0)\n",
      "Requirement already satisfied: pyyaml==5.1.2 in /Users/mike0sv/miniconda3/envs/py36/lib/python3.6/site-packages (from ebonite) (5.1.2)\n",
      "Requirement already satisfied: isort==4.3.21 in /Users/mike0sv/miniconda3/envs/py36/lib/python3.6/site-packages (from ebonite) (4.3.21)\n",
      "Requirement already satisfied: requests==2.22.0 in /Users/mike0sv/miniconda3/envs/py36/lib/python3.6/site-packages (from ebonite) (2.22.0)\n",
      "Requirement already satisfied: pyjackson==0.0.23 in /Users/mike0sv/miniconda3/envs/py36/lib/python3.6/site-packages (from ebonite) (0.0.23)\n",
      "Requirement already satisfied: Jinja2==2.10.1 in /Users/mike0sv/miniconda3/envs/py36/lib/python3.6/site-packages (from ebonite) (2.10.1)\n",
      "Requirement already satisfied: everett==1.0.2 in /Users/mike0sv/miniconda3/envs/py36/lib/python3.6/site-packages (from ebonite) (1.0.2)\n",
      "Requirement already satisfied: GitPython==3.0.3 in /Users/mike0sv/miniconda3/envs/py36/lib/python3.6/site-packages (from ebonite) (3.0.3)\n",
      "Requirement already satisfied: botocore<1.13.0,>=1.12.14 in /Users/mike0sv/miniconda3/envs/py36/lib/python3.6/site-packages (from boto3) (1.12.61)\n",
      "Requirement already satisfied: s3transfer<0.2.0,>=0.1.10 in /Users/mike0sv/miniconda3/envs/py36/lib/python3.6/site-packages (from boto3) (0.1.13)\n",
      "Requirement already satisfied: jmespath<1.0.0,>=0.7.1 in /Users/mike0sv/miniconda3/envs/py36/lib/python3.6/site-packages (from boto3) (0.9.3)\n",
      "Requirement already satisfied: python-dateutil>=2.5.0 in /Users/mike0sv/miniconda3/envs/py36/lib/python3.6/site-packages (from pandas) (2.7.3)\n",
      "Requirement already satisfied: pytz>=2011k in /Users/mike0sv/miniconda3/envs/py36/lib/python3.6/site-packages (from pandas) (2018.5)\n",
      "Requirement already satisfied: scipy>=0.13.3 in /Users/mike0sv/miniconda3/envs/py36/lib/python3.6/site-packages (from scikit-learn) (1.1.0)\n",
      "Requirement already satisfied: websocket-client>=0.32.0 in /Users/mike0sv/miniconda3/envs/py36/lib/python3.6/site-packages/websocket_client-0.56.0-py3.6.egg (from docker==4.1.0->ebonite) (0.56.0)\n",
      "Requirement already satisfied: six>=1.4.0 in /Users/mike0sv/miniconda3/envs/py36/lib/python3.6/site-packages (from docker==4.1.0->ebonite) (1.12.0)\n",
      "Requirement already satisfied: certifi>=2017.4.17 in /Users/mike0sv/miniconda3/envs/py36/lib/python3.6/site-packages (from requests==2.22.0->ebonite) (2019.6.16)\n",
      "Requirement already satisfied: urllib3!=1.25.0,!=1.25.1,<1.26,>=1.21.1 in /Users/mike0sv/miniconda3/envs/py36/lib/python3.6/site-packages (from requests==2.22.0->ebonite) (1.24.3)\n",
      "Requirement already satisfied: idna<2.9,>=2.5 in /Users/mike0sv/miniconda3/envs/py36/lib/python3.6/site-packages (from requests==2.22.0->ebonite) (2.8)\n",
      "Requirement already satisfied: chardet<3.1.0,>=3.0.2 in /Users/mike0sv/miniconda3/envs/py36/lib/python3.6/site-packages (from requests==2.22.0->ebonite) (3.0.4)\n",
      "Requirement already satisfied: MarkupSafe>=0.23 in /Users/mike0sv/miniconda3/envs/py36/lib/python3.6/site-packages (from Jinja2==2.10.1->ebonite) (1.0)\n",
      "Requirement already satisfied: gitdb2>=2.0.0 in /Users/mike0sv/miniconda3/envs/py36/lib/python3.6/site-packages (from GitPython==3.0.3->ebonite) (2.0.5)\n",
      "Requirement already satisfied: docutils>=0.10 in /Users/mike0sv/miniconda3/envs/py36/lib/python3.6/site-packages (from botocore<1.13.0,>=1.12.14->boto3) (0.14)\n",
      "Requirement already satisfied: smmap2>=2.0.0 in /Users/mike0sv/miniconda3/envs/py36/lib/python3.6/site-packages (from gitdb2>=2.0.0->GitPython==3.0.3->ebonite) (2.0.5)\n",
      "\u001b[31mpyasn1-modules 0.2.7 has requirement pyasn1<0.5.0,>=0.4.6, but you'll have pyasn1 0.4.4 which is incompatible.\u001b[0m\n",
      "\u001b[31mawscli 1.16.71 has requirement PyYAML<=3.13,>=3.10, but you'll have pyyaml 5.1.2 which is incompatible.\u001b[0m\n",
      "\u001b[31macumos 0.7.1 has requirement dill<0.2.8, but you'll have dill 0.3.1.1 which is incompatible.\u001b[0m\n",
      "Installing collected packages: psycopg2-binary\n",
      "Successfully installed psycopg2-binary-2.8.4\n",
      "\u001b[33mYou are using pip version 10.0.1, however version 20.0.2 is available.\n",
      "You should consider upgrading via the 'pip install --upgrade pip' command.\u001b[0m\n"
     ]
    }
   ],
   "source": [
    "! pip install ebonite boto3 psycopg2-binary numpy pandas scikit-learn sqlalchemy"
   ]
  },
  {
   "cell_type": "code",
   "execution_count": 2,
   "metadata": {},
   "outputs": [],
   "source": [
    "import pandas as pd\n",
    "import numpy as np"
   ]
  },
  {
   "cell_type": "code",
   "execution_count": 3,
   "metadata": {},
   "outputs": [],
   "source": [
    "# reading data\n",
    "\n",
    "data = pd.read_csv('data.csv')\n",
    "X = np.array(data.drop('y', axis=1))\n",
    "Y = np.array(data['y'])"
   ]
  },
  {
   "cell_type": "code",
   "execution_count": 6,
   "metadata": {},
   "outputs": [
    {
     "data": {
      "text/plain": [
       "1.602125722425639"
      ]
     },
     "execution_count": 6,
     "metadata": {},
     "output_type": "execute_result"
    }
   ],
   "source": [
    "# hacking the best answer\n",
    "Y.mean()"
   ]
  },
  {
   "cell_type": "code",
   "execution_count": 17,
   "metadata": {},
   "outputs": [],
   "source": [
    "# make sure that output is np array of the same length as input\n",
    "def constant(data):\n",
    "    return np.array([1.602125722425639 for _ in range(len(data))])"
   ]
  },
  {
   "cell_type": "code",
   "execution_count": 5,
   "metadata": {},
   "outputs": [],
   "source": [
    "import ebonite"
   ]
  },
  {
   "cell_type": "code",
   "execution_count": 18,
   "metadata": {},
   "outputs": [],
   "source": [
    "model = ebonite.create_model(constant, X, model_name='constant')"
   ]
  },
  {
   "cell_type": "code",
   "execution_count": 11,
   "metadata": {},
   "outputs": [],
   "source": [
    "ebnt = ebonite.Ebonite.from_config_file('client_config.json')"
   ]
  },
  {
   "cell_type": "code",
   "execution_count": 13,
   "metadata": {},
   "outputs": [],
   "source": [
    "# hacking s3 security protocols\n",
    "import os\n",
    "\n",
    "os.environ['S3_ACCESS_KEY'] = 'ebonite'\n",
    "os.environ['S3_SECRET_KEY'] = 'ebonite_key'"
   ]
  },
  {
   "cell_type": "code",
   "execution_count": 19,
   "metadata": {},
   "outputs": [
    {
     "data": {
      "text/plain": [
       "Model(id=5,name=constant)"
      ]
     },
     "execution_count": 19,
     "metadata": {},
     "output_type": "execute_result"
    }
   ],
   "source": [
    "task = ebnt.get_or_create_task('eb_demo', 'eb_demo')\n",
    "\n",
    "task.push_model(model)"
   ]
  }
 ],
 "metadata": {
  "kernelspec": {
   "display_name": "Python 3",
   "language": "python",
   "name": "python3"
  },
  "language_info": {
   "codemirror_mode": {
    "name": "ipython",
    "version": 3
   },
   "file_extension": ".py",
   "mimetype": "text/x-python",
   "name": "python",
   "nbconvert_exporter": "python",
   "pygments_lexer": "ipython3",
   "version": "3.6.7"
  }
 },
 "nbformat": 4,
 "nbformat_minor": 1
}
